{
 "cells": [
  {
   "cell_type": "code",
   "execution_count": null,
   "metadata": {},
   "outputs": [],
   "source": [
    "# Import dependencies\n",
    "import pandas as pd \n",
    "\n",
    "from splinter import Browser\n",
    "from bs4 import BeautifulSoup as bs\n",
    "import requests"
   ]
  },
  {
   "cell_type": "markdown",
   "metadata": {},
   "source": [
    "### NASA Mars News\n",
    "\n",
    "* Scrape the NASA Mars News Site and collect the latest News Title and Paragraph Text. Assign the text to variables that you can reference later."
   ]
  },
  {
   "cell_type": "code",
   "execution_count": null,
   "metadata": {},
   "outputs": [],
   "source": [
    "# Set variable to hold URL\n",
    "nasa_url = \"https://mars.nasa.gov/news/?page=0&per_page=40&order=publish_date+desc%2Ccreated_at+desc&search=&category=19%2C165%2C184%2C204&blank_scope=Latest\"\n",
    "\n",
    "# Retrieve page with the requests module\n",
    "response = requests.get(nasa_url)\n",
    "\n",
    "# Create BeautifulSoup object; parse with 'html'\n",
    "soup = bs(response.text, 'html')"
   ]
  },
  {
   "cell_type": "code",
   "execution_count": null,
   "metadata": {},
   "outputs": [],
   "source": [
    "# Retrieve the parent div for the grid containing the article titles\n",
    "results = soup.find_all('div', class_='grid_layout')[1]"
   ]
  },
  {
   "cell_type": "code",
   "execution_count": null,
   "metadata": {},
   "outputs": [],
   "source": [
    "# Scrape data to get title\n",
    "div = results.find(\"div\", class_=\"content_title\")\n",
    "a = div.a\n",
    "\n",
    "# Set variable to hold title\n",
    "title = div.a.text\n",
    "print(f\"title: {title}\")\n",
    "\n",
    "# Scrape data to get paragraph teaser\n",
    "divp = results.find(\"div\", class_=\"rollover_description_inner\")\n",
    "\n",
    "# Set variable to hold title\n",
    "paragraph = divp.text\n",
    "print(f\"paragraph: {paragraph}\")"
   ]
  },
  {
   "cell_type": "markdown",
   "metadata": {},
   "source": [
    "### JPL Mars Space Images - Featured Image\n",
    "\n",
    "* Visit the url for JPL Featured Space Image.\n",
    "* Use Splinter to navigate the site and find the image url for the current Featured Mars Image.\n",
    "* Assign the url string to a variable called featured_image_url. Make sure to find the image url to the full size .jpg image.\n",
    "* Make sure to save a complete url string for this image."
   ]
  },
  {
   "cell_type": "markdown",
   "metadata": {},
   "source": [
    "Mac Users: Execute the following cell"
   ]
  },
  {
   "cell_type": "code",
   "execution_count": 5,
   "metadata": {},
   "outputs": [],
   "source": [
    "# # https://splinter.readthedocs.io/en/latest/drivers/chrome.html\n",
    "# !which chromedriver\n",
    "# executable_path = {'executable_path': '/usr/local/bin/chromedriver'}\n",
    "# browser = Browser('chrome', **executable_path, headless=False)"
   ]
  },
  {
   "cell_type": "markdown",
   "metadata": {},
   "source": [
    "Windows Users: Execute the following cell"
   ]
  },
  {
   "cell_type": "code",
   "execution_count": 21,
   "metadata": {},
   "outputs": [],
   "source": [
    "executable_path = {'executable_path': 'chromedriver.exe'}\n",
    "browser = Browser('chrome', **executable_path, headless=False)"
   ]
  },
  {
   "cell_type": "code",
   "execution_count": 22,
   "metadata": {},
   "outputs": [],
   "source": [
    "# Set variable to hold URL\n",
    "jpl_url = \"https://www.jpl.nasa.gov/spaceimages/?search=&category=Mars\"\n",
    "\n",
    "# visit URL\n",
    "browser.visit(jpl_url)"
   ]
  },
  {
   "cell_type": "code",
   "execution_count": 23,
   "metadata": {},
   "outputs": [],
   "source": [
    "# HTML object\n",
    "html = browser.html\n",
    "\n",
    "# Parse HTML with Beautiful Soup\n",
    "soup = bs(html, 'html.parser')\n",
    "\n",
    "# Retrieve the element containing the main image\n",
    "results = soup.find_all(\"div\", class_=\"carousel_items\")[0]"
   ]
  },
  {
   "cell_type": "code",
   "execution_count": 24,
   "metadata": {},
   "outputs": [
    {
     "name": "stdout",
     "output_type": "stream",
     "text": [
      "<div class=\"carousel_items\">\n",
      "<article alt=\"The Case of the Warped Galactic Ring\" class=\"carousel_item\" style=\"background-image: url('/spaceimages/images/wallpaper/PIA14400-1920x1200.jpg');\">\n",
      "<div class=\"default floating_text_area ms-layer\">\n",
      "<h2 class=\"category_title\">\n",
      "</h2>\n",
      "<h2 class=\"brand_title\">\n",
      "\t\t\t\t  FEATURED IMAGE\n",
      "\t\t\t\t</h2>\n",
      "<h1 class=\"media_feature_title\">\n",
      "\t\t\t\t  The Case of the Warped Galactic Ring\t\t\t\t</h1>\n",
      "<div class=\"description\">\n",
      "</div>\n",
      "<footer>\n",
      "<a class=\"button fancybox\" data-description=\"This image from ESA's Herschel Space Observatory reveals a suspected ring at the center of our galaxy is warped for reasons scientists cannot explain. The ring is twisted so that part of it rises above and below the plane of our Milky Way galaxy.\" data-fancybox-group=\"images\" data-fancybox-href=\"/spaceimages/images/mediumsize/PIA14400_ip.jpg\" data-link=\"/spaceimages/details.php?id=PIA14400\" data-title=\"The Case of the Warped Galactic Ring\" id=\"full_image\">\n",
      "\t\t\t\t\tFULL IMAGE\n",
      "\t\t\t\t  </a>\n",
      "</footer>\n",
      "</div>\n",
      "<div class=\"gradient_container_top\"></div>\n",
      "<div class=\"gradient_container_bottom\"></div>\n",
      "</article>\n",
      "</div>\n"
     ]
    }
   ],
   "source": [
    "print(results)"
   ]
  },
  {
   "cell_type": "code",
   "execution_count": 25,
   "metadata": {},
   "outputs": [],
   "source": [
    "# Use Beautiful Soup's find() method to retrieve attribute of image URL\n",
    "article = results.find(\"article\")\n",
    "style = article[\"style\"]\n",
    "\n",
    "# Trim Style attribute to isolate the href image URL\n",
    "trimmed_style = style.split(\"'\")\n",
    "\n",
    "# Save trimmed URL as a variable\n",
    "href = trimmed_style[1]"
   ]
  },
  {
   "cell_type": "code",
   "execution_count": 26,
   "metadata": {},
   "outputs": [
    {
     "name": "stdout",
     "output_type": "stream",
     "text": [
      "featured_image_url: https://www.jpl.nasa.gov/spaceimages/images/wallpaper/PIA14400-1920x1200.jpg\n"
     ]
    }
   ],
   "source": [
    "# Store image URL to a variable\n",
    "featured_image_url = f\"https://www.jpl.nasa.gov{href}\"\n",
    "\n",
    "# Close the browser after scraping\n",
    "browser.quit()\n",
    "\n",
    "print(f\"featured_image_url: {featured_image_url}\")"
   ]
  },
  {
   "cell_type": "markdown",
   "metadata": {},
   "source": [
    "### Mars Weather\n",
    "* Visit the Mars Weather twitter account here and scrape the latest Mars weather tweet from the page. Save the tweet text for the weather report as a variable called mars_weather.\n",
    "* Note: Be sure you are not signed in to twitter, or scraping may become more difficult.\n",
    "* Note: Twitter frequently changes how information is presented on their website. If you are having difficulty getting the correct html tag data, consider researching Regular Expression Patterns and how they can be used in combination with the .find() method."
   ]
  },
  {
   "cell_type": "code",
   "execution_count": null,
   "metadata": {},
   "outputs": [],
   "source": [
    "# Set variable to hold URL\n",
    "mars_url = \"https://twitter.com/marswxreport?lang=en\"\n",
    "\n",
    "# Retrieve page with the requests module\n",
    "response = requests.get(mars_url)\n",
    "\n",
    "# Create BeautifulSoup object; parse with 'html'\n",
    "soup = bs(response.text, 'html')"
   ]
  },
  {
   "cell_type": "code",
   "execution_count": null,
   "metadata": {},
   "outputs": [],
   "source": [
    "# Retrieve the parent div for the paragraph containing the most recent weather Tweet\n",
    "results = soup.find_all('p', class_='TweetTextSize TweetTextSize--normal js-tweet-text tweet-text')[0]\n"
   ]
  },
  {
   "cell_type": "code",
   "execution_count": null,
   "metadata": {},
   "outputs": [],
   "source": [
    "# Set variable to hold title\n",
    "mars_weather = results.text\n",
    "\n",
    "print(f\"mars_weather: {mars_weather}\")"
   ]
  },
  {
   "cell_type": "markdown",
   "metadata": {},
   "source": [
    "### Mars Facts\n",
    "* Visit the Mars Facts webpage here and use Pandas to scrape the table containing facts about the planet including Diameter, Mass, etc.\n",
    "* Use Pandas to convert the data to a HTML table string."
   ]
  },
  {
   "cell_type": "code",
   "execution_count": null,
   "metadata": {},
   "outputs": [],
   "source": [
    "# Store URL\n",
    "facts_url = \"https://space-facts.com/mars/\"\n",
    "\n",
    "#Read table\n",
    "tables = pd.read_html(facts_url)\n",
    "tables"
   ]
  },
  {
   "cell_type": "code",
   "execution_count": null,
   "metadata": {},
   "outputs": [],
   "source": [
    "type(tables)"
   ]
  },
  {
   "cell_type": "code",
   "execution_count": null,
   "metadata": {},
   "outputs": [],
   "source": [
    "# Create dataframe by selecting row from table\n",
    "mars_df = tables[0]\n",
    "\n",
    "# Rename Columns\n",
    "mars_df = mars_df.rename(columns={\n",
    "                        0: \"Category\",\n",
    "                        1: \"Fact\"\n",
    "})\n",
    "mars_df"
   ]
  },
  {
   "cell_type": "code",
   "execution_count": null,
   "metadata": {},
   "outputs": [],
   "source": [
    "# Convert table to HTML string\n",
    "# mars_df.to_html(buf=\"mars_df.html\", index=False)\n",
    "\n",
    "print(mars_df.to_html(index=False))"
   ]
  },
  {
   "cell_type": "markdown",
   "metadata": {},
   "source": [
    "### Mars Hemispheres\n",
    "* Visit the USGS Astrogeology site here to obtain high resolution images for each of Mar's hemispheres.\n",
    "* You will need to click each of the links to the hemispheres in order to find the image url to the full resolution image.\n",
    "* Save both the image url string for the full resolution hemisphere image, and the Hemisphere title containing the hemisphere name. Use a Python dictionary to store the data using the keys img_url and title.\n",
    "* Append the dictionary with the image url string and the hemisphere title to a list. This list will contain one dictionary for each hemisphere."
   ]
  },
  {
   "cell_type": "code",
   "execution_count": null,
   "metadata": {},
   "outputs": [],
   "source": [
    "# Set list of strings to hold hemisphere names\n",
    "hemi_list = [\"cerberus\", \"schiaparelli\", \"syrtis_major\", \"valles_marineris\"]"
   ]
  },
  {
   "cell_type": "markdown",
   "metadata": {},
   "source": [
    "Windows Users: Execute the following cell"
   ]
  },
  {
   "cell_type": "code",
   "execution_count": null,
   "metadata": {},
   "outputs": [],
   "source": [
    "def find_img_dict(hemisphere):\n",
    "    executable_path = {'executable_path': 'chromedriver.exe'}\n",
    "    browser = Browser('chrome', **executable_path, headless=False)\n",
    "    \n",
    "    url = f\"https://astrogeology.usgs.gov/search/map/Mars/Viking/{hemisphere}_enhanced\"\n",
    "    \n",
    "    # visit URL\n",
    "    browser.visit(url)\n",
    "    \n",
    "    # HTML object\n",
    "    html = browser.html\n",
    "\n",
    "    # Parse HTML with Beautiful Soup\n",
    "    soup = bs(html, 'html.parser')\n",
    "\n",
    "    # Retrieve element that contains URL download link\n",
    "    link_element = soup.find_all('div', class_='downloads')[0]\n",
    "\n",
    "    # Use Beautiful Soup's find() method to navigate and save to IMG URL variable\n",
    "    ul = link_element.find(\"ul\")\n",
    "    li = ul.find(\"li\")\n",
    "    a = li.find(\"a\")\n",
    "    img_url = a[\"href\"]\n",
    "\n",
    "    # Retrieve element that contains hemisphere name\n",
    "    h2 = soup.find_all('h2', class_='title')[0]\n",
    "    \n",
    "    # Find name of hemisphere\n",
    "    text=h2.text\n",
    "    # Isolate string name of hemisphere. Split to remove word \"Enhanced\"\n",
    "    hemi_string = text.split(\"Enhanced\")\n",
    "    # Save hemisphere name as variable\n",
    "    hemi_name = hemi_string[0]\n",
    "    \n",
    "    # Save hemisphere name and URL as a dictionary\n",
    "    Dict = {\n",
    "        \"hemi_title\": hemi_name, \n",
    "        \"img_url\": img_url\n",
    "    }\n",
    "    # Close the browser after scraping\n",
    "    browser.quit()\n",
    "    \n",
    "    # Return dictionary\n",
    "    return Dict"
   ]
  },
  {
   "cell_type": "code",
   "execution_count": null,
   "metadata": {},
   "outputs": [],
   "source": [
    "# Set list to hold dictionary data for each hemisphere\n",
    "hemi_data_list = []\n",
    "\n",
    "# Loop through all 4 hemispheres in list\n",
    "for hemi in hemi_list:\n",
    "    # Set variable to hold data for a single hemisphere\n",
    "    dictionary = find_img_dict(hemi)\n",
    "    \n",
    "    # Append that hemisphere's data to the list\n",
    "    hemi_data_list.append(dictionary)\n",
    "\n",
    "print(hemi_data_list)"
   ]
  },
  {
   "cell_type": "code",
   "execution_count": null,
   "metadata": {},
   "outputs": [],
   "source": []
  },
  {
   "cell_type": "code",
   "execution_count": null,
   "metadata": {},
   "outputs": [],
   "source": []
  }
 ],
 "metadata": {
  "kernelspec": {
   "display_name": "Python 3",
   "language": "python",
   "name": "python3"
  },
  "language_info": {
   "codemirror_mode": {
    "name": "ipython",
    "version": 3
   },
   "file_extension": ".py",
   "mimetype": "text/x-python",
   "name": "python",
   "nbconvert_exporter": "python",
   "pygments_lexer": "ipython3",
   "version": "3.7.1"
  }
 },
 "nbformat": 4,
 "nbformat_minor": 2
}
